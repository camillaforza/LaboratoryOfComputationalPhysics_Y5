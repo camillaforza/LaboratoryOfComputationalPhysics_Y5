{
 "cells": [
  {
   "cell_type": "markdown",
   "metadata": {},
   "source": [
    "# Modules/packages/libraries\n",
    "\n",
    "Definitions:\n",
    "\n",
    "  * Modules:\n",
    "  A module is a file which contains python functions, global variables etc. It is nothing but .py file which has python executable code / statement.\n",
    "\n",
    "  * Packages:\n",
    "  A package is a namespace which contains multiple package/modules. It is a directory which contains a special file `__init__.py`\n",
    "  \n",
    "  * Libraries:\n",
    "  A library is a collection of various packages. There is no difference between package and python library conceptually.\n",
    "  \n",
    "Modules/packages/libraries can be easily \"imported\" and made functional in your python code. A set of libriaries comes with every python installation. Others can be installed locally and then imported. Your own code sitting somewhere else in your local computer can be imported too.\n",
    "\n",
    "Further details (very important!) on packages and how to create them can be found online. We may find the need of creating our own during the course."
   ]
  },
  {
   "cell_type": "code",
   "execution_count": 2,
   "metadata": {},
   "outputs": [
    {
     "name": "stdout",
     "output_type": "stream",
     "text": [
      "3.141592653589793\n",
      "3.141592653589793\n",
      "3.141592653589793\n",
      "2.6457513110645907\n"
     ]
    }
   ],
   "source": [
    "###### all the \"stuff\" that is in the math library can be used\n",
    "import math\n",
    "print(math.pi)\n",
    "\n",
    "# you can give math a label for convenience\n",
    "import math as m\n",
    "print (m.pi)\n",
    "\n",
    "# alternatively you can import only a given \"thing\" from the library\n",
    "from math import pi    #you can add several libraries at once, just list them separated by a \", \"\n",
    "print (pi)\n",
    "\n",
    "# or just get everything (very dangerous!!!)\n",
    "from math import *\n",
    "print (sqrt(7))"
   ]
  },
  {
   "cell_type": "markdown",
   "metadata": {},
   "source": [
    "To know which modules are there for you to use just type:"
   ]
  },
  {
   "cell_type": "code",
   "execution_count": 3,
   "metadata": {},
   "outputs": [
    {
     "name": "stdout",
     "output_type": "stream",
     "text": [
      "\n",
      "Please wait a moment while I gather a list of all available modules...\n",
      "\n"
     ]
    },
    {
     "name": "stderr",
     "output_type": "stream",
     "text": [
      "/home/camilla/anaconda3/lib/python3.9/site-packages/IPython/kernel/__init__.py:12: ShimWarning: The `IPython.kernel` package has been deprecated since IPython 4.0.You should import from ipykernel or jupyter_client instead.\n",
      "  warn(\"The `IPython.kernel` package has been deprecated since IPython 4.0.\"\n",
      "WARNING: AstropyDeprecationWarning: The private astropy._erfa module has been made into its own package, pyerfa, which is a dependency of astropy and can be imported directly using \"import erfa\" [astropy._erfa]\n",
      "/home/camilla/anaconda3/lib/python3.9/pkgutil.py:93: MatplotlibDeprecationWarning: \n",
      "The matplotlib.compat module was deprecated in Matplotlib 3.3 and will be removed two minor releases later.\n",
      "  __import__(info.name)\n",
      "/home/camilla/anaconda3/lib/python3.9/site-packages/nltk/twitter/__init__.py:20: UserWarning: The twython library has not been installed. Some functionality from the twitter package will not be available.\n",
      "  warnings.warn(\n",
      "QSS file sucessfuly loaded.\n",
      "Found application patches to be applied.\n",
      "No QCoreApplication instance found. Application patches not applied. You have to call load_stylesheet function after instantiation of QApplication to take effect. \n"
     ]
    },
    {
     "name": "stdout",
     "output_type": "stream",
     "text": [
      "Cython              cProfile            kiwisolver          scipy\n",
      "IPython             cached_property     lazy_object_proxy   scripts\n",
      "OpenSSL             calendar            lib2to3             seaborn\n",
      "PIL                 certifi             libarchive          secrets\n",
      "PyQt5               cffi                libfuturize         secretstorage\n",
      "TBB                 cgi                 libpasteurize       select\n",
      "__future__          cgitb               lief                selectors\n",
      "_abc                chardet             linecache           send2trash\n",
      "_aix_support        charset_normalizer  llvmlite            setuptools\n",
      "_ast                chunk               locale              shelve\n",
      "_asyncio            click               locket              shlex\n",
      "_bisect             cloudpickle         logging             shutil\n",
      "_black_version      clyent              lxml                signal\n",
      "_blake2             cmath               lzma                simplegeneric\n",
      "_bootlocale         cmd                 mailbox             singledispatch\n",
      "_bootsubprocess     code                mailcap             sip\n",
      "_bz2                codecs              markupsafe          sipconfig\n",
      "_cffi_backend       codeop              marshal             sipdistutils\n",
      "_codecs             collections         math                site\n",
      "_codecs_cn          colorama            matplotlib          six\n",
      "_codecs_hk          colorsys            matplotlib_inline   skimage\n",
      "_codecs_iso2022     compileall          mccabe              sklearn\n",
      "_codecs_jp          concurrent          mimetypes           sklearnex\n",
      "_codecs_kr          conda               mistune             slugify\n",
      "_codecs_tw          conda_build         mkl                 smtpd\n",
      "_collections        conda_content_trust mkl_fft             smtplib\n",
      "_collections_abc    conda_env           mkl_random          sndhdr\n",
      "_compat_pickle      conda_pack          mmap                sniffio\n",
      "_compression        conda_package_handling mock                snowballstemmer\n",
      "_contextvars        conda_token         modulefinder        socket\n",
      "_crypt              conda_verify        more_itertools      socketserver\n",
      "_csv                configparser        mpi_transceiver     socks\n",
      "_ctypes             contextlib          mpmath              sockshandler\n",
      "_ctypes_test        contextlib2         msgpack             sortedcollections\n",
      "_curses             contextvars         multipledispatch    sortedcontainers\n",
      "_curses_panel       cookiecutter        multiprocessing     soupsieve\n",
      "_daal4py            copy                munkres             sphinx\n",
      "_datetime           copyreg             mypy_extensions     sphinxcontrib\n",
      "_decimal            crypt               navigator_updater   spwd\n",
      "_distutils_hack     cryptography        nbclassic           spyder\n",
      "_elementtree        csv                 nbclient            spyder_kernels\n",
      "_functools          ctypes              nbconvert           sqlalchemy\n",
      "_hashlib            curl                nbformat            sqlite3\n",
      "_heapq              curses              nest_asyncio        sre_compile\n",
      "_imp                cycler              netrc               sre_constants\n",
      "_io                 cython              networkx            sre_parse\n",
      "_json               cythonmagic         nis                 ssl\n",
      "_locale             cytoolz             nltk                stat\n",
      "_lsprof             daal4py             nntplib             statistics\n",
      "_lzma               dask                nose                statsmodels\n",
      "_markupbase         dataclasses         notebook            storemagic\n",
      "_md5                datetime            ntpath              string\n",
      "_multibytecodec     dateutil            nturl2path          stringprep\n",
      "_multiprocessing    dbm                 numba               struct\n",
      "_onedal4py_host     debugpy             numbers             subprocess\n",
      "_opcode             decimal             numexpr             sunau\n",
      "_operator           decorator           numpy               symbol\n",
      "_osx_support        defusedxml          numpydoc            sympy\n",
      "_peg_parser         diff_match_patch    olefile             sympyprinting\n",
      "_pickle             difflib             onedal              symtable\n",
      "_posixshmem         dis                 opcode              sys\n",
      "_posixsubprocess    distributed         openpyxl            sysconfig\n",
      "_py_abc             distutils           operator            syslog\n",
      "_pydecimal          doctest             optparse            tables\n",
      "_pyio               docutils            os                  tabnanny\n",
      "_pyrsistent_version email               ossaudiodev         tarfile\n",
      "_pytest             encodings           packaging           tbb\n",
      "_queue              ensurepip           pandas              tblib\n",
      "_random             entrypoints         pandocfilters       telnetlib\n",
      "_sha1               enum                parser              tempfile\n",
      "_sha256             erfa                parso               terminado\n",
      "_sha3               errno               partd               termios\n",
      "_sha512             et_xmlfile          past                test\n",
      "_signal             fastcache           path                test_data\n",
      "_sitebuiltins       faulthandler        pathlib             test_pycosat\n",
      "_socket             fcntl               pathlib2            testpath\n",
      "_sqlite3            filecmp             pathspec            tests\n",
      "_sre                fileinput           patsy               text_unidecode\n",
      "_ssl                filelock            pdb                 textdistance\n",
      "_stat               flake8              pep8                textwrap\n",
      "_statistics         flask               pexpect             this\n",
      "_string             fnmatch             pickle              threading\n",
      "_strptime           fontTools           pickleshare         threadpoolctl\n",
      "_struct             formatter           pickletools         three_merge\n",
      "_symtable           fractions           pip                 tifffile\n",
      "_sysconfigdata__linux_x86_64-linux-gnu fsspec              pipes               time\n",
      "_sysconfigdata_x86_64_conda_cos6_linux_gnu ftplib              pkg_resources       timeit\n",
      "_sysconfigdata_x86_64_conda_cos7_linux_gnu functools           pkginfo             tinycss\n",
      "_sysconfigdata_x86_64_conda_linux_gnu future              pkgutil             tkinter\n",
      "_testbuffer         gc                  platform            tlz\n",
      "_testcapi           genericpath         plistlib            token\n",
      "_testimportmultiple getopt              pluggy              tokenize\n",
      "_testinternalcapi   getpass             ply                 toml\n",
      "_testmultiphase     gettext             poplib              toolz\n",
      "_thread             gevent              posix               tornado\n",
      "_threading_local    glob                posixpath           tqdm\n",
      "_tkinter            glob2               poyo                trace\n",
      "_tracemalloc        gmpy2               pprint              traceback\n",
      "_warnings           graphlib            profile             tracemalloc\n",
      "_weakref            greenlet            prometheus_client   traitlets\n",
      "_weakrefset         grp                 prompt_toolkit      tty\n",
      "_xxsubinterpreters  gzip                pstats              turtle\n",
      "_xxtestfuzz         h5py                psutil              turtledemo\n",
      "_yaml               hashlib             pty                 typed_ast\n",
      "_zoneinfo           heapdict            ptyprocess          types\n",
      "abc                 heapq               pvectorc            typing\n",
      "aifc                hmac                pwd                 typing_extensions\n",
      "alabaster           html                py                  ujson\n",
      "anaconda_navigator  html5lib            py_compile          unicodecsv\n",
      "anaconda_project    http                pyclbr              unicodedata\n",
      "antigravity         idlelib             pycodestyle         unidecode\n",
      "anyio               idna                pycosat             unittest\n",
      "appdirs             imagecodecs         pycparser           urllib\n",
      "argh                imageio             pycurl              urllib3\n",
      "argon2              imagesize           pydoc               uu\n",
      "argparse            imaplib             pydoc_data          uuid\n",
      "array               imghdr              pydocstyle          venv\n",
      "arrow               imp                 pyexpat             warnings\n",
      "asn1crypto          importlib           pyflakes            watchdog\n",
      "ast                 importlib_metadata  pygments            wave\n",
      "astroid             inflection          pylab               wcwidth\n",
      "astropy             iniconfig           pylint              weakref\n",
      "async_generator     inspect             pyls_spyder         webbrowser\n",
      "asynchat            intervaltree        pylsp               webencodings\n",
      "asyncio             io                  pylsp_black         werkzeug\n",
      "asyncore            ipaddress           pylsp_jsonrpc       wheel\n",
      "atexit              ipykernel           pyodbc              whichcraft\n",
      "atomicwrites        ipykernel_launcher  pyparsing           widgetsnbextension\n",
      "attr                ipython_genutils    pyrsistent          wrapt\n",
      "audioop             ipywidgets          pytest              wsgiref\n",
      "autopep8            isort               pytz                wurlitzer\n",
      "autoreload          isympy              pywt                xdg\n",
      "babel               itertools           pyximport           xdrlib\n",
      "backcall            itsdangerous        qdarkstyle          xlrd\n",
      "backports           jdcal               qstylizer           xlsxwriter\n",
      "base64              jedi                qtawesome           xlwt\n",
      "bdb                 jeepney             qtconsole           xml\n",
      "binaryornot         jinja2              qtpy                xmlrpc\n",
      "binascii            jinja2_time         queue               xmltodict\n",
      "binhex              joblib              quopri              xxlimited\n",
      "binstar_client      json                random              xxsubtype\n",
      "bisect              json5               re                  yaml\n",
      "bitarray            jsonschema          readline            yapf\n",
      "bkcharts            jupyter             regex               yapftests\n",
      "black               jupyter_client      repo_cli            zict\n",
      "blackd              jupyter_console     reprlib             zipapp\n",
      "bleach              jupyter_core        requests            zipfile\n",
      "blib2to3            jupyter_server      resource            zipimport\n",
      "bokeh               jupyterlab          rlcompleter         zipp\n",
      "boto                jupyterlab_pygments rmagic              zlib\n",
      "bottleneck          jupyterlab_server   rope                zmq\n",
      "brotli              jupyterlab_widgets  rtree               zoneinfo\n",
      "bs4                 jwt                 ruamel_yaml         zope\n",
      "builtins            keyring             runpy               \n",
      "bz2                 keyword             sched               \n",
      "\n",
      "Enter any module name to get more help.  Or, type \"modules spam\" to search\n",
      "for modules whose name or summary contain the string \"spam\".\n",
      "\n",
      "None\n"
     ]
    },
    {
     "name": "stderr",
     "output_type": "stream",
     "text": [
      "/home/camilla/anaconda3/lib/python3.9/pkgutil.py:108: VisibleDeprecationWarning: zmq.eventloop.minitornado is deprecated in pyzmq 14.0 and will be removed.\n",
      "    Install tornado itself to use zmq with the tornado IOLoop.\n",
      "    \n",
      "  yield from walk_packages(path, info.name+'.', onerror)\n"
     ]
    }
   ],
   "source": [
    "print (help('modules') )\n"
   ]
  },
  {
   "cell_type": "markdown",
   "metadata": {},
   "source": [
    "`pip` is a special package. It is used from the command line to install properly (e.g. matching the version of the local packages) new packages. It can also be used from within python to check i.e. the set installed packages and their versions. N.B.: only the installed packages on top of the default ones will be listed "
   ]
  },
  {
   "cell_type": "code",
   "execution_count": null,
   "metadata": {},
   "outputs": [],
   "source": [
    "import pip\n",
    "sorted([\"%s==%s\" % (i.key, i.version) for i in pip._internal.utils.misc.get_installed_distributions()])"
   ]
  },
  {
   "cell_type": "markdown",
   "metadata": {},
   "source": [
    "# Functions"
   ]
  },
  {
   "cell_type": "code",
   "execution_count": 1,
   "metadata": {},
   "outputs": [
    {
     "name": "stdout",
     "output_type": "stream",
     "text": [
      "9\n",
      "27\n",
      "cube 27\n",
      "square 9\n"
     ]
    }
   ],
   "source": [
    "def square(x):\n",
    "    \"\"\"Square of x.\"\"\"\n",
    "    return x*x\n",
    "\n",
    "def cube(x):\n",
    "    \"\"\"Cube of x.\"\"\"\n",
    "    return x*x*x\n",
    "\n",
    "# create a dictionary of functions\n",
    "funcs = {\n",
    "    'square': square,\n",
    "    'cube': cube,\n",
    "}\n",
    "\n",
    "x = 3\n",
    "print(square(x))\n",
    "print(cube(x))\n",
    "\n",
    "for func in sorted(funcs):\n",
    "    print (func, funcs[func](x))"
   ]
  },
  {
   "cell_type": "markdown",
   "metadata": {},
   "source": [
    "## Functions arguments"
   ]
  },
  {
   "cell_type": "markdown",
   "metadata": {},
   "source": [
    "What is passsed to a function is a copy of the input. Imagine we have a list *x =[1, 2, 3]*, i.e. a mutable object. If within the function the content of *x* is directly changed (e.g. *x[0] = 999*), then *x* changes outside the funciton as well. "
   ]
  },
  {
   "cell_type": "code",
   "execution_count": null,
   "metadata": {},
   "outputs": [],
   "source": [
    "def modify(x):\n",
    "    x[0] = 999\n",
    "    return x\n",
    "\n",
    "x = [1,2,3]\n",
    "print (x)\n",
    "print (modify(x))\n",
    "print (x)"
   ]
  },
  {
   "cell_type": "markdown",
   "metadata": {},
   "source": [
    "However, if *x* is reassigned within the function to a new object (e.g. another list), then the copy of the name *x* now points to the new object, but *x* outside the function is unhcanged."
   ]
  },
  {
   "cell_type": "code",
   "execution_count": null,
   "metadata": {},
   "outputs": [],
   "source": [
    "def no_modify(x):\n",
    "    x = [4,5,6]\n",
    "    return x\n",
    "\n",
    "x = [1,2,3]\n",
    "print (x)\n",
    "print (no_modify(x))\n",
    "print (x)\n"
   ]
  },
  {
   "cell_type": "markdown",
   "metadata": {},
   "source": [
    "What if the function tries to modify the value of an immutable object?"
   ]
  },
  {
   "cell_type": "markdown",
   "metadata": {},
   "source": [
    "Binding of default arguments occurs at function definition:"
   ]
  },
  {
   "cell_type": "code",
   "execution_count": null,
   "metadata": {},
   "outputs": [],
   "source": [
    "def f(x = []):\n",
    "    x.append(1)\n",
    "    return x\n",
    "\n",
    "print (f())\n",
    "print (f())\n",
    "print (f(x = [9,9,9]))\n",
    "print (f())\n",
    "print (f())"
   ]
  },
  {
   "cell_type": "markdown",
   "metadata": {},
   "source": [
    "Try to aviod that!!"
   ]
  },
  {
   "cell_type": "code",
   "execution_count": null,
   "metadata": {},
   "outputs": [],
   "source": [
    "def f(x = None):\n",
    "    if x is None:\n",
    "        x = []\n",
    "    x.append(1)\n",
    "    return x\n",
    "\n",
    "print (f())\n",
    "print (f())\n",
    "print (f(x = [9,9,9]))\n",
    "print (f())\n",
    "print (f())"
   ]
  },
  {
   "cell_type": "markdown",
   "metadata": {},
   "source": [
    "## Higher order functions\n",
    "\n",
    "A function that uses another function as an input argument or returns a function is known as a higher-order function (HOF). The most familiar examples are `map` and `filter`."
   ]
  },
  {
   "cell_type": "markdown",
   "metadata": {},
   "source": [
    "### map\n",
    "\n",
    "The map function applies a function to each member of a collection"
   ]
  },
  {
   "cell_type": "code",
   "execution_count": null,
   "metadata": {},
   "outputs": [],
   "source": [
    "x = list(map(square, range(5))) \n",
    "print (x)\n",
    "\n",
    "# Note the difference w.r.t python 2. In python 3 map retuns an iterator so you can do stuff like:\n",
    "for i in map(square,range(5)): print(i)\n",
    "\n",
    "# or\n",
    "[i for i in map(square,range(6))]"
   ]
  },
  {
   "cell_type": "markdown",
   "metadata": {},
   "source": [
    "### filter\n",
    "\n",
    "The filter function applies a predicate to each member of a collection, retaining only those members where the predicate is True"
   ]
  },
  {
   "cell_type": "code",
   "execution_count": null,
   "metadata": {},
   "outputs": [],
   "source": [
    "def is_even(x):\n",
    "    return x%2 == 0\n",
    "\n",
    "print (list(filter(is_even, range(5))))"
   ]
  },
  {
   "cell_type": "markdown",
   "metadata": {},
   "source": [
    "Combinations in sequence of HOF are obviously possible"
   ]
  },
  {
   "cell_type": "code",
   "execution_count": null,
   "metadata": {},
   "outputs": [],
   "source": [
    "list(map(square, filter(is_even, range(5))))"
   ]
  },
  {
   "cell_type": "markdown",
   "metadata": {},
   "source": [
    "### reduce\n",
    "\n",
    "The reduce function reduces a collection using a binary operator to combine items two at a time. More often than not reduce can be substituted with a more efficient for loop. It is worth mentioning it for its key role in big-data applications together with map (the map-reduce paradigm). \n",
    "N.B.: it no loger exist as built-in function in python 3, it is now part of the `functools` library"
   ]
  },
  {
   "cell_type": "code",
   "execution_count": null,
   "metadata": {},
   "outputs": [],
   "source": [
    "from functools import reduce\n",
    "\n",
    "def my_add(x, y):\n",
    "    return x + y\n",
    "\n",
    "# another implementation of the sum function\n",
    "reduce(my_add, [1,2,3,4,5])"
   ]
  },
  {
   "cell_type": "markdown",
   "metadata": {},
   "source": [
    "### zip\n",
    "\n",
    "zip is useful when you need to iterate over matched elements of multiple lists"
   ]
  },
  {
   "cell_type": "code",
   "execution_count": null,
   "metadata": {},
   "outputs": [],
   "source": [
    "xs = [1, 2, 3, 4]\n",
    "ys = [10, 20, 30, 40]\n",
    "zs = ['a', 'b', 'c', 'd', 'e']\n",
    "\n",
    "for x, y, z in zip(xs, ys, zs):\n",
    "    print (x, y, z)"
   ]
  },
  {
   "cell_type": "markdown",
   "metadata": {},
   "source": [
    "### Custom HOF"
   ]
  },
  {
   "cell_type": "code",
   "execution_count": null,
   "metadata": {},
   "outputs": [],
   "source": [
    "def custom_sum(xs, transform):\n",
    "    \"\"\"Returns the sum of xs after a user specified transform.\"\"\"\n",
    "    return sum(map(transform, xs))\n",
    "\n",
    "xs = range(5)\n",
    "print (custom_sum(xs, square))\n",
    "print (custom_sum(xs, cube))\n",
    "\n"
   ]
  },
  {
   "cell_type": "markdown",
   "metadata": {},
   "source": [
    "### Returning a function"
   ]
  },
  {
   "cell_type": "code",
   "execution_count": null,
   "metadata": {},
   "outputs": [],
   "source": [
    "def make_logger(target):\n",
    "    def logger(data):\n",
    "        with open(target, 'a') as f:\n",
    "            f.write(data + '\\n')\n",
    "    return logger\n",
    "\n",
    "foo_logger = make_logger('foo.txt') #foo.txt will be created if not there already\n",
    "foo_logger('Hello')\n",
    "foo_logger('World')"
   ]
  },
  {
   "cell_type": "code",
   "execution_count": null,
   "metadata": {},
   "outputs": [],
   "source": [
    "! cat 'foo.txt'"
   ]
  },
  {
   "cell_type": "markdown",
   "metadata": {},
   "source": [
    "## Anonimous functions (lambda)\n",
    "\n",
    "When using functional style, there is often the need to create specific functions that perform a limited task as input to a HOF such as map or filter. In such cases, these functions are often written as anonymous or lambda functions. \n",
    "The syntax is as follows:\n",
    "\n",
    "lambda *arguments* : *expression*\n",
    "\n",
    "\n",
    "If you find it hard to understand what a lambda function is doing, it should probably be rewritten as a regular function."
   ]
  },
  {
   "cell_type": "code",
   "execution_count": null,
   "metadata": {},
   "outputs": [],
   "source": [
    "sum = lambda x,y: x+y\n",
    "sum(3,4)"
   ]
  },
  {
   "cell_type": "code",
   "execution_count": null,
   "metadata": {},
   "outputs": [],
   "source": [
    "for i in map(lambda x: x*x, range(5)): print (i)"
   ]
  },
  {
   "cell_type": "code",
   "execution_count": null,
   "metadata": {},
   "outputs": [],
   "source": [
    "# what does this function do?\n",
    "from functools import reduce\n",
    "s1 = reduce(lambda x, y: x+y, map(lambda x: x**2, range(1,10)))\n",
    "print(s1)\n"
   ]
  },
  {
   "cell_type": "markdown",
   "metadata": {},
   "source": [
    "## Recursive functions "
   ]
  },
  {
   "cell_type": "code",
   "execution_count": null,
   "metadata": {},
   "outputs": [],
   "source": [
    "def fib1(n):\n",
    "    \"\"\"Fib with recursion.\"\"\"\n",
    "\n",
    "    # base case\n",
    "    if n==0 or n==1:\n",
    "        return 1\n",
    "    # recursive case\n",
    "    else:\n",
    "        return fib1(n-1) + fib1(n-2)\n",
    "\n",
    "    \n",
    "print ([fib1(i) for i in range(10)])"
   ]
  },
  {
   "cell_type": "code",
   "execution_count": null,
   "metadata": {},
   "outputs": [],
   "source": [
    "# In Python, a more efficient version that does not use recursion is\n",
    "\n",
    "def fib2(n):\n",
    "    \"\"\"Fib without recursion.\"\"\"\n",
    "    a, b = 0, 1\n",
    "    for i in range(1, n+1):\n",
    "        a, b = b, a+b\n",
    "    return b\n",
    "\n",
    "print ([fib2(i) for i in range(10)])"
   ]
  },
  {
   "cell_type": "code",
   "execution_count": null,
   "metadata": {},
   "outputs": [],
   "source": [
    "# check indeed the timing:\n",
    "\n",
    "%timeit fib1(20)\n",
    "%timeit fib2(20)\n"
   ]
  },
  {
   "cell_type": "markdown",
   "metadata": {},
   "source": [
    "## Iterators\n",
    "\n",
    "Iterators represent streams of values. Because only one value is consumed at a time, they use very little memory. Use of iterators is very helpful for working with data sets too large to fit into RAM."
   ]
  },
  {
   "cell_type": "code",
   "execution_count": null,
   "metadata": {},
   "outputs": [],
   "source": [
    "# Iterators can be created from sequences with the built-in function iter()\n",
    "\n",
    "xs = [1,2,3]\n",
    "x_iter = iter(xs)\n",
    "\n",
    "print (next(x_iter))\n",
    "print (next(x_iter))\n",
    "print (next(x_iter))\n",
    "print (next(x_iter))"
   ]
  },
  {
   "cell_type": "code",
   "execution_count": null,
   "metadata": {},
   "outputs": [],
   "source": [
    "# Most commonly, iterators are used (automatically) within a for loop\n",
    "# which terminates when it encouters a StopIteration exception\n",
    "\n",
    "x_iter = iter(xs)\n",
    "for x in x_iter:\n",
    "    print (x)"
   ]
  },
  {
   "cell_type": "markdown",
   "metadata": {},
   "source": [
    "## More on comprehensions"
   ]
  },
  {
   "cell_type": "code",
   "execution_count": null,
   "metadata": {},
   "outputs": [],
   "source": [
    "# A generator expression\n",
    "\n",
    "print ((x for x in range(10)))\n",
    "\n",
    "# A list comprehesnnion\n",
    "\n",
    "print ([x for x in range(10)])\n",
    "\n",
    "# A set comprehension\n",
    "\n",
    "print ({x for x in range(10)})\n",
    "\n",
    "# A dictionary comprehension\n",
    "\n",
    "print ({x: \"x\" for x in range(10)})"
   ]
  },
  {
   "cell_type": "markdown",
   "metadata": {},
   "source": [
    "## Useful Modules\n",
    "\n",
    "You may want to have a look at the content of the following modules for further usage of (HO) functions:\n",
    "  - [operator](https://docs.python.org/3/library/operator.html)\n",
    "  - [functools](https://docs.python.org/3/library/functools.html)\n",
    "  - [itertools](https://docs.python.org/3/library/itertools.html)\n",
    "  - [toolz](https://pypi.org/project/toolz/)\n",
    "  - [funcy](https://pypi.org/project/funcy/)"
   ]
  },
  {
   "cell_type": "markdown",
   "metadata": {},
   "source": [
    "## Decorators\n",
    "\n",
    "Decorators are a type of HOF that take a function and return a wrapped function that provides additional useful properties.\n",
    "\n",
    "Examples:\n",
    "\n",
    "  - logging\n",
    "  - profiling\n",
    "  - Just-In-Time (JIT) compilation"
   ]
  },
  {
   "cell_type": "code",
   "execution_count": null,
   "metadata": {},
   "outputs": [],
   "source": [
    "def my_decorator(func):\n",
    "    def wrapper():\n",
    "        print(\"Something is happening before the function is called.\")\n",
    "        func()\n",
    "        print(\"Something is happening after the function is called.\")\n",
    "    return wrapper\n",
    "\n",
    "def say_whee():\n",
    "    print(\"Whee!\")\n",
    "\n",
    "say_whee = my_decorator(say_whee)"
   ]
  },
  {
   "cell_type": "code",
   "execution_count": null,
   "metadata": {},
   "outputs": [],
   "source": [
    "say_whee()"
   ]
  },
  {
   "cell_type": "markdown",
   "metadata": {},
   "source": [
    "Python allows you to use decorators in a simpler way with the @ symbol, sometimes called the “pie” syntax"
   ]
  },
  {
   "cell_type": "code",
   "execution_count": null,
   "metadata": {},
   "outputs": [],
   "source": [
    "def my_decorator(func):\n",
    "    def wrapper():\n",
    "        print(\"Something is happening before the function is called.\")\n",
    "        func()\n",
    "        print(\"Something is happening after the function is called.\")\n",
    "    return wrapper\n",
    "\n",
    "@my_decorator\n",
    "def say_whee():\n",
    "    print(\"Whee!\")"
   ]
  },
  {
   "cell_type": "code",
   "execution_count": null,
   "metadata": {},
   "outputs": [],
   "source": [
    "say_whee()"
   ]
  },
  {
   "cell_type": "markdown",
   "metadata": {},
   "source": [
    "# Classes and Objects\n",
    "\n",
    "Old school object-oriented programming is possible and often used in python. Classes are defined similarly to standard object-oriented languages, with similar functionalities.\n",
    "\n",
    "The main python doc [page](https://docs.python.org/3/tutorial/classes.html) is worth reading through "
   ]
  },
  {
   "cell_type": "code",
   "execution_count": null,
   "metadata": {},
   "outputs": [],
   "source": [
    "class Pet:\n",
    "    # the \"constructor\"\n",
    "    def __init__(self, name, age):  #inizialize the elements of the class\n",
    "        self.name=name\n",
    "        self.age=age\n",
    "    # class functions take the \"self\" parameter !!!\n",
    "    def set_name(self,name):\n",
    "        self.name=name\n",
    "    def convert_age(self,factor):\n",
    "        self.age*=factor\n",
    "\n",
    "buddy=Pet(\"buddy\",12)\n",
    "print (buddy.name, buddy.age)\n",
    "buddy.age=3\n",
    "print (buddy.age)\n",
    "\n"
   ]
  },
  {
   "cell_type": "code",
   "execution_count": null,
   "metadata": {},
   "outputs": [],
   "source": [
    "# ineritance is straightforward\n",
    "class Dog(Pet):\n",
    "    # the following variables is \"global\", i.e. holds for all \"Dog\" objects\n",
    "    species = \"mammal\"\n",
    "    # functions can be redefined as usual\n",
    "    def convert_age(self):\n",
    "        self.age*=7\n",
    "    def set_species(self, species):\n",
    "        self.species = species\n",
    "        \n",
    "puppy=Dog(\"tobia\",10)\n",
    "print(puppy.name)\n",
    "puppy.convert_age()\n",
    "print(puppy.age)\n",
    "\n"
   ]
  },
  {
   "cell_type": "code",
   "execution_count": null,
   "metadata": {},
   "outputs": [],
   "source": []
  }
 ],
 "metadata": {
  "kernelspec": {
   "display_name": "Python 3 (ipykernel)",
   "language": "python",
   "name": "python3"
  },
  "language_info": {
   "codemirror_mode": {
    "name": "ipython",
    "version": 3
   },
   "file_extension": ".py",
   "mimetype": "text/x-python",
   "name": "python",
   "nbconvert_exporter": "python",
   "pygments_lexer": "ipython3",
   "version": "3.9.7"
  }
 },
 "nbformat": 4,
 "nbformat_minor": 2
}
