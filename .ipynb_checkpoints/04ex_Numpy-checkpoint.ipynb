{
 "cells": [
  {
   "cell_type": "markdown",
   "metadata": {},
   "source": [
    "### Numpy basics"
   ]
  },
  {
   "cell_type": "code",
   "execution_count": 5,
   "metadata": {},
   "outputs": [],
   "source": [
    "import numpy as np"
   ]
  },
  {
   "cell_type": "markdown",
   "metadata": {},
   "source": [
    "1\\. Find the row, column and overall means for the following matrix:\n",
    "\n",
    "```python\n",
    "m = np.arange(12).reshape((3,4))\n",
    "```"
   ]
  },
  {
   "cell_type": "code",
   "execution_count": 3,
   "metadata": {},
   "outputs": [
    {
     "name": "stdout",
     "output_type": "stream",
     "text": [
      "[[ 0  1  2  3]\n",
      " [ 4  5  6  7]\n",
      " [ 8  9 10 11]]\n",
      "rank: 2\n",
      "shape: (3, 4)\n",
      "size of the first dimension (axis): 3\n"
     ]
    }
   ],
   "source": [
    "import numpy as np\n",
    "m = np.arange(12).reshape((3,4))\n",
    "print(m)\n",
    "print(\"rank:\", m.ndim)\n",
    "print(\"shape:\", m.shape)\n",
    "print(\"size of the first dimension (axis):\", len(m))"
   ]
  },
  {
   "cell_type": "markdown",
   "metadata": {},
   "source": [
    "2\\. Find the outer product of the following two vecotrs\n",
    "\n",
    "```python\n",
    "u = np.array([1,3,5,7])\n",
    "v = np.array([2,4,6,8])\n",
    "```\n",
    "\n",
    "Do this in the following ways:\n",
    "\n",
    "   * Using the function outer in numpy\n",
    "   * Using a nested for loop or list comprehension\n",
    "   * Using numpy broadcasting operations\n"
   ]
  },
  {
   "cell_type": "code",
   "execution_count": 10,
   "metadata": {},
   "outputs": [
    {
     "name": "stdout",
     "output_type": "stream",
     "text": [
      "[1 3 5 7] [2 4 6 8]\n",
      "out_1 = \n",
      " [[ 2  4  6  8]\n",
      " [ 6 12 18 24]\n",
      " [10 20 30 40]\n",
      " [14 28 42 56]]\n",
      "out_2 = \n",
      " [[ 2  4  6  8]\n",
      " [ 6 12 18 24]\n",
      " [10 20 30 40]\n",
      " [14 28 42 56]]\n",
      "out_3 = \n",
      " []\n"
     ]
    }
   ],
   "source": [
    "u = np.array([1,3,5,7])\n",
    "v = np.array([2,4,6,8])\n",
    "print(u,v)\n",
    "\n",
    "out_1=np.outer(u,v)\n",
    "print(\"out_1 = \\n\",out_1)\n",
    "\n",
    "l1=[i*j for i in u for j in v]\n",
    "out_2=(np.array(l1)).reshape(4,4)\n",
    "print(\"out_2 = \\n\",out_2)\n",
    "\n",
    "out_3=[]\n",
    "print(\"out_3 = \\n\",out_3)\n",
    "#capire come fare il broadcast!!!\n"
   ]
  },
  {
   "cell_type": "markdown",
   "metadata": {},
   "source": [
    "3\\. Create a 10 by 6 matrix of random uniform numbers. Set all rows with any entry less than 0.1 to be zero\n",
    "\n",
    "Hint: Use the following numpy functions - np.random.random, np.any as well as Boolean indexing and the axis argument."
   ]
  },
  {
   "cell_type": "code",
   "execution_count": 32,
   "metadata": {},
   "outputs": [
    {
     "name": "stdout",
     "output_type": "stream",
     "text": [
      "[[0.79164945 0.35500526 0.04466748 0.88046793 0.51864864 0.94378857]\n",
      " [0.8999368  0.65811328 0.25852313 0.10492112 0.56525713 0.64751277]\n",
      " [0.77244654 0.96718122 0.09166924 0.06662533 0.47326639 0.76409477]\n",
      " [0.79799168 0.29981067 0.47011215 0.61281798 0.4496897  0.2803109 ]\n",
      " [0.90176923 0.41535259 0.43950978 0.36827797 0.74041367 0.57094293]\n",
      " [0.30260039 0.35194788 0.91129818 0.02745029 0.37597794 0.0095841 ]\n",
      " [0.88059087 0.98637131 0.03939127 0.85889388 0.21378534 0.86505179]\n",
      " [0.76049392 0.69504475 0.672901   0.30968023 0.99813693 0.46205048]\n",
      " [0.23050572 0.32169193 0.56291042 0.2897835  0.8325555  0.58406945]\n",
      " [0.14957164 0.64030116 0.7480558  0.09401869 0.26420668 0.31525643]] \n",
      "\n",
      "[[0.79164945 0.35500526 0.         0.88046793 0.51864864 0.94378857]\n",
      " [0.8999368  0.65811328 0.25852313 0.10492112 0.56525713 0.64751277]\n",
      " [0.77244654 0.96718122 0.         0.         0.47326639 0.76409477]\n",
      " [0.79799168 0.29981067 0.47011215 0.61281798 0.4496897  0.2803109 ]\n",
      " [0.90176923 0.41535259 0.43950978 0.36827797 0.74041367 0.57094293]\n",
      " [0.30260039 0.35194788 0.91129818 0.         0.37597794 0.        ]\n",
      " [0.88059087 0.98637131 0.         0.85889388 0.21378534 0.86505179]\n",
      " [0.76049392 0.69504475 0.672901   0.30968023 0.99813693 0.46205048]\n",
      " [0.23050572 0.32169193 0.56291042 0.2897835  0.8325555  0.58406945]\n",
      " [0.14957164 0.64030116 0.7480558  0.         0.26420668 0.31525643]]\n"
     ]
    }
   ],
   "source": [
    "rn_num=np.random.random(60)\n",
    "np.array(rn_num)\n",
    "mat=rn_num.reshape(10,6)\n",
    "print(mat,\"\\n\")\n",
    "rn_num2=rn_num.copy()\n",
    "\n",
    "for i in range(0, len(rn_num2)): \n",
    "    if (rn_num2[i]<0.1):\n",
    "        rn_num2[i]=0\n",
    "        \n",
    "mat2=rn_num2.reshape(10,6)\n",
    "print(mat2)\n",
    "\n",
    "#individuare tutti i numeri < 0.1\n",
    "#mat[mat<0.1]=0\n",
    "#print(mat)\n",
    "\n",
    "#mat[np.any(mat<0.1)]=0 #??????\n",
    "\n",
    "#NON VA BENE - DA RIFARE USANDO LE FUNZIONI DI NUMPY"
   ]
  },
  {
   "cell_type": "markdown",
   "metadata": {},
   "source": [
    "4\\. Use np.linspace to create an array of 100 numbers between 0 and 2π (inclusive).\n",
    "\n",
    "  * Extract every 10th element using slice notation\n",
    "  * Reverse the array using slice notation\n",
    "  * Extract elements where the absolute difference between the sine and cosine functions evaluated at that element is less than 0.1\n",
    "  * Make a plot showing the sin and cos functions and indicate where they are close"
   ]
  },
  {
   "cell_type": "code",
   "execution_count": 54,
   "metadata": {},
   "outputs": [
    {
     "name": "stdout",
     "output_type": "stream",
     "text": [
      "[0.         0.06346652 0.12693304 0.19039955 0.25386607 0.31733259\n",
      " 0.38079911 0.44426563 0.50773215 0.57119866]\n",
      "[6.28318531 6.21971879 6.15625227 6.09278575 6.02931923 5.96585272\n",
      " 5.9023862  5.83891968 5.77545316 5.71198664]\n",
      "[1.         0.99798668 0.99195481 0.9819287  0.9679487  0.95007112\n",
      " 0.92836793 0.90292654 0.87384938 0.84125353]\n",
      "[0.         0.06342392 0.12659245 0.18925124 0.25114799 0.31203345\n",
      " 0.37166246 0.42979491 0.48619674 0.54064082]\n"
     ]
    },
    {
     "data": {
      "text/plain": [
       "[<matplotlib.lines.Line2D at 0x7f9efd206d30>]"
      ]
     },
     "execution_count": 54,
     "metadata": {},
     "output_type": "execute_result"
    },
    {
     "data": {
      "image/png": "[encoded data removed]",
      "text/plain": [
       "<Figure size 432x288 with 1 Axes>"
      ]
     },
     "metadata": {
      "needs_background": "light"
     },
     "output_type": "display_data"
    }
   ],
   "source": [
    "import matplotlib.pyplot as plt\n",
    "\n",
    "num=np.linspace(0,2*np.pi,100)\n",
    "numrev=num[::-1]\n",
    "\n",
    "numcos=np.cos(num)\n",
    "numsin=np.sin(num)\n",
    "\n",
    "print(num[0:10])\n",
    "print(numrev[0:10])\n",
    "print(numcos[0:10])\n",
    "print(numsin[0:10])\n",
    "\n",
    "fig=plt.figure()\n",
    "plt.plot(num,numcos, marker=\"o\", color=\"blue\",)\n",
    "plt.plot(num,numsin,marker=\"o\", color=\"orange\")\n",
    "plt.xlabel(\"angles[rad]\")\n",
    "plt.ylabel(\"values\")\n",
    "\n",
    "plt.plot(np.pi/4.,np.sin(np.pi/4), 'r+', markersize=30)\n",
    "plt.plot(5*np.pi/4.,np.sin(5*np.pi/4), 'r+', markersize=30)"
   ]
  },
  {
   "cell_type": "markdown",
   "metadata": {},
   "source": [
    "5\\. Create a matrix that shows the 10 by 10 multiplication table.\n",
    "\n",
    " * Find the trace of the matrix\n",
    " * Extract the anti-diagonal (this should be ```array([10, 18, 24, 28, 30, 30, 28, 24, 18, 10])```)\n",
    " * Extract the diagonal offset by 1 upwards (this should be ```array([ 2,  6, 12, 20, 30, 42, 56, 72, 90])```)"
   ]
  },
  {
   "cell_type": "code",
   "execution_count": 67,
   "metadata": {},
   "outputs": [
    {
     "name": "stdout",
     "output_type": "stream",
     "text": [
      "matrix: \n",
      " [[  1   2   3   4   5   6   7   8   9  10]\n",
      " [  2   4   6   8  10  12  14  16  18  20]\n",
      " [  3   6   9  12  15  18  21  24  27  30]\n",
      " [  4   8  12  16  20  24  28  32  36  40]\n",
      " [  5  10  15  20  25  30  35  40  45  50]\n",
      " [  6  12  18  24  30  36  42  48  54  60]\n",
      " [  7  14  21  28  35  42  49  56  63  70]\n",
      " [  8  16  24  32  40  48  56  64  72  80]\n",
      " [  9  18  27  36  45  54  63  72  81  90]\n",
      " [ 10  20  30  40  50  60  70  80  90 100]] \n",
      "\n",
      "trace:  385\n",
      "[10, 18, 24, 28, 30, 30, 28, 24, 18, 100]\n",
      "[2, 6, 12, 20, 30, 42, 56, 72, 90]\n"
     ]
    }
   ],
   "source": [
    "val=[]\n",
    "val.append([i*j for i in range(1,11) for j in range (1,11)])\n",
    "val=np.array(val)\n",
    "mat=val.reshape(10,10)\n",
    "print(\"matrix: \\n\", mat, \"\\n\")\n",
    "print(\"trace: \",np.trace(mat))\n",
    "\n",
    "l=[mat[i,j] for i in range(0,10) for j in range(0,10) if ((i+j)%9==0 & i!=j)]\n",
    "print(l)\n",
    "l2=[mat[i,i+1] for i in range(0,9)]\n",
    "print(l2)"
   ]
  },
  {
   "cell_type": "markdown",
   "metadata": {},
   "source": [
    "6\\. Use broadcasting to create a grid of distances\n",
    "\n",
    "Route 66 crosses the following cities in the US: Chicago, Springfield, Saint-Louis, Tulsa, Oklahoma City, Amarillo, Santa Fe, Albuquerque, Flagstaff, Los Angeles\n",
    "The corresponding positions in miles are: 0, 198, 303, 736, 871, 1175, 1475, 1544, 1913, 2448\n",
    "\n",
    "  * Construct a 2D grid of distances among each city along Route 66\n",
    "  * Convert that in km (those savages...)"
   ]
  },
  {
   "cell_type": "code",
   "execution_count": 58,
   "metadata": {},
   "outputs": [
    {
     "name": "stdout",
     "output_type": "stream",
     "text": [
      "[   0.       318.64932  487.63002 1184.47424 1401.73514 1890.9745\n",
      " 2373.7765  2484.82096 3078.66742 3939.66432]\n"
     ]
    }
   ],
   "source": [
    "city=[\"Chicago\", \"Springfield\", \"Saint-Louis\", \"Tulsa\", \"Oklahoma City\", \"Amarillo\", \"Santa Fe\", \"Albuquerque\", \"Flagstaff\", \"Los Angeles\"]\n",
    "dist_m=[0., 198., 303., 736., 871., 1175., 1475., 1544., 1913., 2448.]\n",
    "city=np.array(city)\n",
    "dist_m=np.array(dist_m)\n",
    "dist_km=dist_m*1.60934\n",
    "print(dist_km)\n",
    "\n",
    "\n",
    "#DO THE GRID"
   ]
  },
  {
   "cell_type": "markdown",
   "metadata": {},
   "source": [
    "7\\. Prime numbers sieve: compute the prime numbers in the 0-N (N=99 to start with) range with a sieve (mask).\n",
    "  * Construct a shape (100,) boolean array, the mask\n",
    "  * Identify the multiples of each number starting from 2 and set accordingly the corresponding mask element\n",
    "  * Apply the mask to obtain an array of ordered prime numbers\n",
    "  * Check the performances (timeit); how does it scale with N?\n",
    "  * Implement the optimization suggested in the [sieve of Eratosthenes](https://en.wikipedia.org/wiki/Sieve_of_Eratosthenes)"
   ]
  },
  {
   "cell_type": "code",
   "execution_count": null,
   "metadata": {},
   "outputs": [],
   "source": []
  },
  {
   "cell_type": "markdown",
   "metadata": {},
   "source": [
    "**N.B. the following exercises are meant to be solved only if you are familiar with the numpy random library. If not you can skip them (postponed for one of the next exercise sessions)**\n"
   ]
  },
  {
   "cell_type": "markdown",
   "metadata": {},
   "source": [
    "8\\. Diffusion using random walk\n",
    "\n",
    "Consider a simple random walk process: at each step in time, a walker jumps right or left (+1 or -1) with equal probability. The goal is to find the typical distance from the origin of a random walker after a given amount of time. \n",
    "To do that, let's simulate many walkers and create a 2D array with each walker as a raw and the actual time evolution as columns\n",
    "\n",
    "  * Take 1000 walkers and let them walk for 200 steps\n",
    "  * Use randint to create a 2D array of size walkers x steps with values -1 or 1\n",
    "  * Build the actual walking distances for each walker (i.e. another 2D array \"summing on each raw\")\n",
    "  * Take the square of that 2D array (elementwise)\n",
    "  * Compute the mean of the squared distances at each step (i.e. the mean along the columns)\n",
    "  * Plot the average distances (sqrt(distance\\*\\*2)) as a function of time (step)\n",
    "  \n",
    "Did you get what you expected?"
   ]
  },
  {
   "cell_type": "markdown",
   "metadata": {},
   "source": [
    "9\\. Analyze a data file \n",
    "  * Download the population of hares, lynxes and carrots at the beginning of the last century.\n",
    "    ```python\n",
    "    ! wget https://www.dropbox.com/s/3vigxoqayo389uc/populations.txt\n",
    "    ```\n",
    "\n",
    "  * Check the content by looking within the file\n",
    "  * Load the data (use an appropriate numpy method) into a 2D array\n",
    "  * Create arrays out of the columns, the arrays being (in order): *year*, *hares*, *lynxes*, *carrots* \n",
    "  * Plot the 3 populations over the years\n",
    "  * Compute the main statistical properties of the dataset (mean, std, correlations, etc.)\n",
    "  * Which species has the highest population each year?\n",
    "\n",
    "Do you feel there is some evident correlation here? [Studies](https://www.enr.gov.nt.ca/en/services/lynx/lynx-snowshoe-hare-cycle) tend to believe so."
   ]
  }
 ],
 "metadata": {
  "kernelspec": {
   "display_name": "Python 3 (ipykernel)",
   "language": "python",
   "name": "python3"
  },
  "language_info": {
   "codemirror_mode": {
    "name": "ipython",
    "version": 3
   },
   "file_extension": ".py",
   "mimetype": "text/x-python",
   "name": "python",
   "nbconvert_exporter": "python",
   "pygments_lexer": "ipython3",
   "version": "3.9.7"
  }
 },
 "nbformat": 4,
 "nbformat_minor": 2
}
