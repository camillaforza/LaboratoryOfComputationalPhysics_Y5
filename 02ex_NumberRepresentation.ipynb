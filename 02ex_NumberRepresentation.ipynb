{
 "cells": [
  {
   "cell_type": "markdown",
   "metadata": {},
   "source": [
    "1\\. Write a function that converts number representation, bin<->dec<->hex. (Clearly using the corresponding python built-in functions is not fair..)"
   ]
  },
  {
   "cell_type": "code",
   "execution_count": 9,
   "metadata": {},
   "outputs": [
    {
     "name": "stdout",
     "output_type": "stream",
     "text": [
      "Insert an integer number:\n",
      "4012\n",
      "Insert 'b' for binary conversion or 'h' for hexadecimal conversion:\n",
      "h\n",
      "fac\n"
     ]
    }
   ],
   "source": [
    "\n",
    "def base_converter (n,t):\n",
    "    \n",
    "    if t==\"b\":\n",
    "        x=[]\n",
    "        while (n>=2):\n",
    "            i=0\n",
    "            x.append(str(int(n%2)))\n",
    "            n=(n-n%2)/2\n",
    "            i+=1\n",
    "        else: \n",
    "            x.append(str(int(n)))\n",
    "        x.reverse()\n",
    "        x=\"\".join(x)\n",
    "        return(x)\n",
    "  \n",
    "    elif t==\"h\":\n",
    "        x=[]\n",
    "        num=[0,1,2,3,4,5,6,7,8,9,\"a\",\"b\",\"c\",\"d\",\"e\",\"f\"]\n",
    "        while (n>=16):\n",
    "            i=0\n",
    "            mod=int(n%16)\n",
    "            x.append(str(num[int(mod)]))\n",
    "            n=(n-n%16)/16\n",
    "            i+=1\n",
    "        else:\n",
    "            x.append(str(num[int(n)]))\n",
    "        x.reverse()\n",
    "        x=\"\".join(x)\n",
    "        return(x)\n",
    "\n",
    "    else:\n",
    "        return(\"Not available\") \n",
    "    \n",
    "print(\"Insert an integer number:\")\n",
    "number=int(input())\n",
    "print(\"Insert 'b' for binary conversion or 'h' for hexadecimal conversion:\")\n",
    "base=input()\n",
    "print(base_converter(number,base))\n"
   ]
  },
  {
   "cell_type": "markdown",
   "metadata": {},
   "source": [
    "2\\. Write a function that converts a 32 bit word into a single precision floating point (i.e. interprets the various bits as sign, mantissa and exponent)"
   ]
  },
  {
   "cell_type": "code",
   "execution_count": null,
   "metadata": {},
   "outputs": [],
   "source": []
  },
  {
   "cell_type": "markdown",
   "metadata": {},
   "source": [
    "3\\. Write a program to determine the underflow and overflow limits (within a factor of 2) for python on your computer. \n",
    "\n",
    "**Tips**: define two variables inizialized to 1 and halve/double them enough time to exceed the under/over-flow limits  "
   ]
  },
  {
   "cell_type": "code",
   "execution_count": 14,
   "metadata": {},
   "outputs": [
    {
     "name": "stdout",
     "output_type": "stream",
     "text": [
      "9223372036854775807\n",
      "9223372036854775808\n",
      "-9223372036854775808\n"
     ]
    }
   ],
   "source": [
    "#capire se è questo che vuole l'esercizio.\n",
    "\n",
    "import sys\n",
    "a,b=1,1\n",
    "print(sys.maxsize)\n",
    "\n",
    "\n",
    "while (a<=sys.maxsize):\n",
    "    a=a*2\n",
    "\n",
    "while (b>=-sys.maxsize):\n",
    "    b=-b*2\n",
    "\n",
    "print(a)\n",
    "print(b)"
   ]
  },
  {
   "cell_type": "markdown",
   "metadata": {},
   "source": [
    "4\\. Write a program to determine the machine precision\n",
    "\n",
    "**Tips**: define a new variable by adding a smaller and smaller value (proceeding similarly to prob. 2) to an original variable and check the point where the two are the same "
   ]
  },
  {
   "cell_type": "code",
   "execution_count": null,
   "metadata": {},
   "outputs": [],
   "source": []
  },
  {
   "cell_type": "markdown",
   "metadata": {},
   "source": [
    "5\\. Write a function that takes in input three parameters $a$, $b$ and $c$ and prints out the two solutions to the quadratic equation $ax^2+bx+c=0$ using the standard formula:\n",
    "$$\n",
    "x=\\frac{-b\\pm\\sqrt{b^2-4ac}}{2a}\n",
    "$$\n",
    "\n",
    "(a) use the program to compute the solution for $a=0.001$, $b=1000$ and $c=0.001$\n",
    "\n",
    "(b) re-express the standard solution formula by multiplying top and bottom by $-b\\mp\\sqrt{b^2-4ac}$ and again find the solution for $a=0.001$, $b=1000$ and $c=0.001$. How does it compare with what previously obtained? Why?\n",
    "\n",
    "(c) write a function that compute the roots of a quadratic equation accurately in all cases"
   ]
  },
  {
   "cell_type": "code",
   "execution_count": 3,
   "metadata": {},
   "outputs": [
    {
     "name": "stdout",
     "output_type": "stream",
     "text": [
      "(-9.999894245993346e-07, -999999.999999)\n",
      "(-9.999894245993346e-07, -999999.9999989999)\n",
      "(-9.999894245993346e-07, -999999.9999989999)\n",
      "(-9.999894245993346e-07, -999999.999999)\n"
     ]
    }
   ],
   "source": [
    "import math as m\n",
    "\n",
    "def sol_quad_expr1(a,b,c):\n",
    "    delta=b**2-4*a*c\n",
    "    x1=(-b+m.sqrt(delta))/(2*a)\n",
    "    x2=(-b-m.sqrt(delta))/(2*a)\n",
    "    return (x1,x2)\n",
    "\n",
    "#a\n",
    "a1,b1,c1 = 0.001, 1000, 0.001\n",
    "print(sol_quad_expr1(a1,b1,c1))\n",
    "\n",
    "#b\n",
    "def sol_quad_expr2(a,b,c):\n",
    "    delta=b**2-4*a*c\n",
    "    x1=(-b+m.sqrt(delta))/(2*a)*(-b-m.sqrt(delta))/(-b-m.sqrt(delta))\n",
    "    x2=(-b-m.sqrt(delta))/(2*a)*(-b+m.sqrt(delta))/(-b+m.sqrt(delta))\n",
    "    return (x1,x2)\n",
    "\n",
    "print(sol_quad_expr2(a1,b1,c1))\n",
    "\n",
    "#c CHIEDERE A TEO !!!\n",
    "\n",
    "def sol_quad_expr3(a,b,c):\n",
    "    delta=b**2-4*a*c\n",
    "    x1=(-b+delta**0.5)/(2*a)*(-b-(delta**0.5))/(-b-(delta)**0.5)\n",
    "    x2=(-b-(delta**0.5))/(2*a)*(-b+(delta**0.5))/(-b+(delta**0.5))\n",
    "    return (x1,x2)\n",
    "\n",
    "print(sol_quad_expr3(a1,b1,c1))\n",
    "\n",
    "\n",
    "def sol_quad_expr4(a,b,c):\n",
    "    delta=b**2-4*a*c\n",
    "    x1=(-b+delta**0.5)/(2*a)\n",
    "    x2=(-b-(delta**0.5))/(2*a)\n",
    "    return (x1,x2)\n",
    "\n",
    "print(sol_quad_expr4(a1,b1,c1))"
   ]
  },
  {
   "cell_type": "markdown",
   "metadata": {},
   "source": [
    "6\\. Write a program that implements the function $f(x)=x(x−1)$\n",
    "\n",
    "(a) Calculate the derivative of the function at the point $x = 1$ using the derivative definition:\n",
    "\n",
    "$$\n",
    "\\frac{{\\rm d}f}{{\\rm d}x} = \\lim_{\\delta\\to0} \\frac{f(x+\\delta)-f(x)}{\\delta}\n",
    "$$\n",
    "\n",
    "with $\\delta = 10^{−2}$. Calculate the true value of the same derivative analytically and compare with the answer your program gives. The two will not agree perfectly. Why not?\n",
    "\n",
    "(b) Repeat the calculation for $\\delta = 10^{−4}, 10^{−6}, 10^{−8}, 10^{−10}, 10^{−12}$ and $10^{−14}$. How does the accuracy scales with $\\delta$?"
   ]
  },
  {
   "cell_type": "code",
   "execution_count": 9,
   "metadata": {},
   "outputs": [
    {
     "name": "stdout",
     "output_type": "stream",
     "text": [
      "1.010000000000001\n",
      "1.0000999999998899\n",
      "1.0000009999177333\n",
      "1.0000000039225287\n",
      "1.000000082840371\n",
      "1.0000889005833413\n",
      "0.9992007221626509\n"
     ]
    }
   ],
   "source": [
    "#WRITE COMMENTS AND ANSWERS\n",
    "\n",
    "\n",
    "def f(x):\n",
    "    return(x*(x-1))\n",
    "\n",
    "def der_f(d, x):\n",
    "    res=(f(x+d)-f(x))/d\n",
    "    return(res)\n",
    "\n",
    "print(der_f(10**(-2),1))\n",
    "print(der_f(10**(-4),1))\n",
    "print(der_f(10**(-6),1))\n",
    "print(der_f(10**(-8),1))\n",
    "print(der_f(10**(-10),1))\n",
    "print(der_f(10**(-12),1))\n",
    "print(der_f(10**(-14),1))\n",
    "\n",
    "#"
   ]
  },
  {
   "cell_type": "markdown",
   "metadata": {},
   "source": [
    "7\\. Consider the integral of the semicircle of radius 1:\n",
    "$$\n",
    "I=\\int_{-1}^{1} \\sqrt(1-x^2) {\\rm d}x\n",
    "$$\n",
    "which it's known to be $I=\\frac{\\pi}{2}=1.57079632679...$.\n",
    "Alternatively we can use the Riemann definition of the integral:\n",
    "$$\n",
    "I=\\lim_{N\\to\\infty} \\sum_{k=1}^{N} h y_k \n",
    "$$\n",
    "\n",
    "with $h=2/N$ the width of each of the $N$ slices the domain is divided into and where\n",
    "$y_k$ is the value of the function at the $k-$th slice.\n",
    "\n",
    "(a) Write a programe to compute the integral with $N=100$. How does the result compares to the true value?\n",
    "\n",
    "(b) How much can $N$ be increased if the computation needs to be run in less than a second? What is the gain in running it for 1 minute? \n"
   ]
  },
  {
   "cell_type": "code",
   "execution_count": 15,
   "metadata": {},
   "outputs": [
    {
     "name": "stdout",
     "output_type": "stream",
     "text": [
      "[-1.0, -0.98, -0.96, -0.94, -0.9199999999999999, -0.8999999999999999, -0.8799999999999999, -0.8599999999999999, -0.8399999999999999, -0.8199999999999998, -0.7999999999999998, -0.7799999999999998, -0.7599999999999998, -0.7399999999999998, -0.7199999999999998, -0.6999999999999997, -0.6799999999999997, -0.6599999999999997, -0.6399999999999997, -0.6199999999999997, -0.5999999999999996, -0.5799999999999996, -0.5599999999999996, -0.5399999999999996, -0.5199999999999996, -0.49999999999999956, -0.47999999999999954, -0.4599999999999995, -0.4399999999999995, -0.4199999999999995, -0.39999999999999947, -0.37999999999999945, -0.35999999999999943, -0.3399999999999994, -0.3199999999999994, -0.2999999999999994, -0.27999999999999936, -0.25999999999999934, -0.23999999999999932, -0.2199999999999993, -0.1999999999999993, -0.17999999999999927, -0.15999999999999925, -0.13999999999999924, -0.11999999999999922, -0.0999999999999992, -0.07999999999999918, -0.059999999999999165, -0.03999999999999915, -0.01999999999999913, 8.881784197001252e-16, 0.020000000000000906, 0.040000000000000924, 0.06000000000000094, 0.08000000000000096, 0.10000000000000098, 0.120000000000001, 0.140000000000001, 0.16000000000000103, 0.18000000000000105, 0.20000000000000107, 0.22000000000000108, 0.2400000000000011, 0.2600000000000011, 0.28000000000000114, 0.30000000000000115, 0.3200000000000012, 0.3400000000000012, 0.3600000000000012, 0.3800000000000012, 0.40000000000000124, 0.42000000000000126, 0.4400000000000013, 0.4600000000000013, 0.4800000000000013, 0.5000000000000013, 0.5200000000000014, 0.5400000000000014, 0.5600000000000014, 0.5800000000000014, 0.6000000000000014, 0.6200000000000014, 0.6400000000000015, 0.6600000000000015, 0.6800000000000015, 0.7000000000000015, 0.7200000000000015, 0.7400000000000015, 0.7600000000000016, 0.7800000000000016, 0.8000000000000016, 0.8200000000000016, 0.8400000000000016, 0.8600000000000017, 0.8800000000000017, 0.9000000000000017, 0.9200000000000017, 0.9400000000000017, 0.9600000000000017, 0.9800000000000018, 1.0000000000000018]\n",
      "[0.0, 0.1989974874213242, 0.28, 0.3411744421846397, 0.39191835884530873, 0.43588989435406755, 0.4749736834815168, 0.5102940328869231, 0.5425863986500217, 0.5723635208501676, 0.6000000000000003, 0.6257795138864809, 0.6499230723708771, 0.6726068688320097, 0.6939740629158991, 0.7141428428542853, 0.7332121111929347, 0.7512655988397182, 0.7683749084919421, 0.7846018098373215, 0.8000000000000003, 0.8146164741766523, 0.8284926070883194, 0.8416650165000328, 0.8541662601625052, 0.8660254037844389, 0.8772684879784527, 0.8879189152169248, 0.8979977728257462, 0.9075241043630744, 0.9165151389911682, 0.9249864863877744, 0.9329523031752482, 0.9404254356407, 0.9474175425861611, 0.9539392014169459, 0.9600000000000002, 0.965608616365865, 0.970772887960928, 0.9754998718605761, 0.9797958971132714, 0.9836666101886351, 0.9871170143402455, 0.9901515035589251, 0.9927738916792685, 0.9949874371066201, 0.9967948635501691, 0.9981983770774224, 0.9991996797437438, 0.999799979995999, 1.0, 0.999799979995999, 0.9991996797437437, 0.9981983770774223, 0.9967948635501689, 0.9949874371066199, 0.9927738916792684, 0.9901515035589249, 0.9871170143402451, 0.9836666101886348, 0.979795897113271, 0.9754998718605756, 0.9707728879609275, 0.9656086163658646, 0.9599999999999996, 0.9539392014169452, 0.9474175425861605, 0.9404254356406994, 0.9329523031752477, 0.9249864863877737, 0.9165151389911674, 0.9075241043630736, 0.8979977728257453, 0.8879189152169238, 0.8772684879784516, 0.8660254037844379, 0.8541662601625041, 0.8416650165000317, 0.8284926070883182, 0.8146164741766511, 0.7999999999999989, 0.7846018098373201, 0.7683749084919407, 0.7512655988397167, 0.7332121111929331, 0.7141428428542835, 0.6939740629158974, 0.6726068688320077, 0.649923072370875, 0.6257795138864787, 0.5999999999999979, 0.5723635208501651, 0.5425863986500189, 0.5102940328869202, 0.47497368348151353, 0.43588989435406383, 0.39191835884530446, 0.34117444218463483, 0.2799999999999941, 0.19899748742131526, (3.649731871924857e-24+5.960464477539063e-08j)]\n",
      "(78.45671277746246+5.960464477539063e-08j)\n"
     ]
    }
   ],
   "source": [
    "# DA RIVEDERE con Teo\n",
    "\n",
    "\n",
    "import numpy as np\n",
    "\n",
    "def f(x):\n",
    "    return((1-x**2)**0.5)\n",
    "\n",
    "def R_integral(N):\n",
    "    step= 2/N\n",
    "    l1=np.arange(-1, 1+step, step).tolist()\n",
    "    print(l1)\n",
    "    y=[f(i) for i in l1]\n",
    "    print(y)\n",
    "    res=sum(y)\n",
    "    return(res)\n",
    "\n",
    "print(R_integral(100))\n",
    "    "
   ]
  }
 ],
 "metadata": {
  "kernelspec": {
   "display_name": "Python 3 (ipykernel)",
   "language": "python",
   "name": "python3"
  },
  "language_info": {
   "codemirror_mode": {
    "name": "ipython",
    "version": 3
   },
   "file_extension": ".py",
   "mimetype": "text/x-python",
   "name": "python",
   "nbconvert_exporter": "python",
   "pygments_lexer": "ipython3",
   "version": "3.9.7"
  }
 },
 "nbformat": 4,
 "nbformat_minor": 2
}
