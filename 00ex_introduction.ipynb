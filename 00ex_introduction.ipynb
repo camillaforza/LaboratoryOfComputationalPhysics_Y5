{
 "cells": [
  {
   "cell_type": "markdown",
   "metadata": {},
   "source": [
    "1. The MickeyMouse problem\n",
    "\n",
    "a) Write a program that prints the numbers from 1 to 100. But for multiples of 3 print `Mickey` instead of the corresponding number and for the multiples of 5 print `Mouse`. For numbers which are multiples of both three and five print `MickeyMouse`\n",
    "\n",
    "b) Put the result in a tuple and substitute `Mickey` with `Donald` and `Mouse` with `Duck`"
   ]
  },
  {
   "cell_type": "code",
   "execution_count": 14,
   "metadata": {},
   "outputs": [
    {
     "name": "stdout",
     "output_type": "stream",
     "text": [
      "1\n",
      "2\n",
      "Mickey\n",
      "4\n",
      "Mouse\n",
      "Mickey\n",
      "7\n",
      "8\n",
      "Mickey\n",
      "Mouse\n",
      "11\n",
      "Mickey\n",
      "13\n",
      "14\n",
      "MickeyMouse\n",
      "16\n",
      "17\n",
      "Mickey\n",
      "19\n",
      "Mouse\n",
      "Mickey\n",
      "22\n",
      "23\n",
      "Mickey\n",
      "Mouse\n",
      "26\n",
      "Mickey\n",
      "28\n",
      "29\n",
      "MickeyMouse\n",
      "31\n",
      "32\n",
      "Mickey\n",
      "34\n",
      "Mouse\n",
      "Mickey\n",
      "37\n",
      "38\n",
      "Mickey\n",
      "Mouse\n",
      "41\n",
      "Mickey\n",
      "43\n",
      "44\n",
      "MickeyMouse\n",
      "46\n",
      "47\n",
      "Mickey\n",
      "49\n",
      "Mouse\n",
      "Mickey\n",
      "52\n",
      "53\n",
      "Mickey\n",
      "Mouse\n",
      "56\n",
      "Mickey\n",
      "58\n",
      "59\n",
      "MickeyMouse\n",
      "61\n",
      "62\n",
      "Mickey\n",
      "64\n",
      "Mouse\n",
      "Mickey\n",
      "67\n",
      "68\n",
      "Mickey\n",
      "Mouse\n",
      "71\n",
      "Mickey\n",
      "73\n",
      "74\n",
      "MickeyMouse\n",
      "76\n",
      "77\n",
      "Mickey\n",
      "79\n",
      "Mouse\n",
      "Mickey\n",
      "82\n",
      "83\n",
      "Mickey\n",
      "Mouse\n",
      "86\n",
      "Mickey\n",
      "88\n",
      "89\n",
      "MickeyMouse\n",
      "91\n",
      "92\n",
      "Mickey\n",
      "94\n",
      "Mouse\n",
      "Mickey\n",
      "97\n",
      "98\n",
      "Mickey\n",
      "Mouse\n"
     ]
    }
   ],
   "source": [
    "for i in range (1,101): \n",
    "    \n",
    "    if i%15==0:\n",
    "        print(\"MickeyMouse\")\n",
    "    elif i%5==0:\n",
    "        print(\"Mouse\")\n",
    "    elif i%3==0:\n",
    "        print(\"Mickey\")\n",
    "    else:\n",
    "        print(i)"
   ]
  },
  {
   "cell_type": "code",
   "execution_count": 8,
   "metadata": {},
   "outputs": [
    {
     "name": "stdout",
     "output_type": "stream",
     "text": [
      "[1, 2, 'Mickey', 4, 'Mouse', 'Mickey', 7, 8, 'Mickey', 'Mouse', 11, 'Mickey', 13, 14, 'MickeyMouse', 16, 17, 'Mickey', 19, 'Mouse', 'Mickey', 22, 23, 'Mickey', 'Mouse', 26, 'Mickey', 28, 29, 'MickeyMouse', 31, 32, 'Mickey', 34, 'Mouse', 'Mickey', 37, 38, 'Mickey', 'Mouse', 41, 'Mickey', 43, 44, 'MickeyMouse', 46, 47, 'Mickey', 49, 'Mouse', 'Mickey', 52, 53, 'Mickey', 'Mouse', 56, 'Mickey', 58, 59, 'MickeyMouse', 61, 62, 'Mickey', 64, 'Mouse', 'Mickey', 67, 68, 'Mickey', 'Mouse', 71, 'Mickey', 73, 74, 'MickeyMouse', 76, 77, 'Mickey', 79, 'Mouse', 'Mickey', 82, 83, 'Mickey', 'Mouse', 86, 'Mickey', 88, 89, 'MickeyMouse', 91, 92, 'Mickey', 94, 'Mouse', 'Mickey', 97, 98, 'Mickey', 'Mouse']\n",
      "[1, 2, 'Donald', 4, 'Duck', 'Donald', 7, 8, 'Donald', 'Duck', 11, 'Donald', 13, 14, 'DonaldDuck', 16, 17, 'Donald', 19, 'Duck', 'Donald', 22, 23, 'Donald', 'Duck', 26, 'Donald', 28, 29, 'DonaldDuck', 31, 32, 'Donald', 34, 'Duck', 'Donald', 37, 38, 'Donald', 'Duck', 41, 'Donald', 43, 44, 'DonaldDuck', 46, 47, 'Donald', 49, 'Duck', 'Donald', 52, 53, 'Donald', 'Duck', 56, 'Donald', 58, 59, 'DonaldDuck', 61, 62, 'Donald', 64, 'Duck', 'Donald', 67, 68, 'Donald', 'Duck', 71, 'Donald', 73, 74, 'DonaldDuck', 76, 77, 'Donald', 79, 'Duck', 'Donald', 82, 83, 'Donald', 'Duck', 86, 'Donald', 88, 89, 'DonaldDuck', 91, 92, 'Donald', 94, 'Duck', 'Donald', 97, 98, 'Donald', 'Duck']\n"
     ]
    }
   ],
   "source": [
    "l1 = []\n",
    "\n",
    "for i in range (1,101): \n",
    "    \n",
    "    if i%15==0:\n",
    "        l1.append(\"MickeyMouse\")\n",
    "    elif i%5==0:\n",
    "        l1.append(\"Mouse\")\n",
    "    elif i%3==0:\n",
    "        l1.append(\"Mickey\")\n",
    "    else:\n",
    "        l1.append(i)\n",
    "print(l1)\n",
    "\n",
    "for i in range(0,len(l1)): \n",
    "    \n",
    "    if l1[i]=='Mickey':\n",
    "        l1[i]='Donald'\n",
    "    elif l1[i]=='Mouse':\n",
    "        l1[i]='Duck'\n",
    "    elif l1[i]=='MickeyMouse':\n",
    "        l1[i]='DonaldDuck'\n",
    "    else:\n",
    "        l1[i]=l1[i]\n",
    "tuple(l1)\n",
    "print(l1)\n"
   ]
  },
  {
   "cell_type": "markdown",
   "metadata": {},
   "source": [
    "2\\. The swap function\n",
    "\n",
    "Write a function that swap the values of two input variables x and y (whatever the type). Try to do that also without a temporary variable"
   ]
  },
  {
   "cell_type": "code",
   "execution_count": 6,
   "metadata": {},
   "outputs": [
    {
     "name": "stdout",
     "output_type": "stream",
     "text": [
      "x= 3\n",
      "y= 4\n"
     ]
    }
   ],
   "source": [
    "def swap(a,b):\n",
    "    s=a\n",
    "    t=b\n",
    "    return(t,s)\n",
    "\n",
    "x=3\n",
    "y=4\n",
    "swap(x,y)\n",
    "print(\"x=\", x)\n",
    "print(\"y=\", y)"
   ]
  },
  {
   "cell_type": "code",
   "execution_count": 7,
   "metadata": {},
   "outputs": [
    {
     "name": "stdout",
     "output_type": "stream",
     "text": [
      "x= 3\n",
      "y= 4\n"
     ]
    }
   ],
   "source": [
    "def swap2(a,b):\n",
    "    return(b,a)\n",
    "x=3\n",
    "y=4\n",
    "swap2(x,y)\n",
    "print(\"x=\", x)\n",
    "print(\"y=\", y)"
   ]
  },
  {
   "cell_type": "markdown",
   "metadata": {},
   "source": [
    "3\\. Computing the distance\n",
    "\n",
    "Write a function that calculates and returns the euclidean distance between two points *u* and *v*, where *u* and *v* are both 2-tuples *(x,y)*. For example, if *u=(3,0)* and *v=(0,4)*, the function should return 5"
   ]
  },
  {
   "cell_type": "code",
   "execution_count": 10,
   "metadata": {},
   "outputs": [
    {
     "name": "stdout",
     "output_type": "stream",
     "text": [
      "5.0\n"
     ]
    }
   ],
   "source": [
    "import math as m\n",
    "u=[3,0]\n",
    "v=[0,4]\n",
    "def distance(a,b):\n",
    "    d=m.sqrt((a[0]-b[0])**2+(a[1]-b[1])**2)\n",
    "    return d\n",
    "\n",
    "print(distance(u,v))"
   ]
  },
  {
   "cell_type": "markdown",
   "metadata": {},
   "source": [
    "4\\. Counting letters\n",
    "\n",
    "Write a program to calculate the number of times each character occurs in a given string *s*. Ignore differneces in capitalization"
   ]
  },
  {
   "cell_type": "code",
   "execution_count": 11,
   "metadata": {},
   "outputs": [],
   "source": [
    "s=\"Write a program that prints the numbers from 1 to 100. \\\n",
    "But for multiples of three print Mickey instead of the number and for the multiples of five print Mouse. \\\n",
    "For numbers which are multiples of both three and five print MickeyMouse\"\n",
    "\n"
   ]
  },
  {
   "cell_type": "code",
   "execution_count": 16,
   "metadata": {},
   "outputs": [
    {
     "name": "stdout",
     "output_type": "stream",
     "text": [
      "['W', 'r', 'i', 't', 'e', ' ', 'a', ' ', 'p', 'r', 'o', 'g', 'r', 'a', 'm', ' ', 't', 'h', 'a', 't', ' ', 'p', 'r', 'i', 'n', 't', 's', ' ', 't', 'h', 'e', ' ', 'n', 'u', 'm', 'b', 'e', 'r', 's', ' ', 'f', 'r', 'o', 'm', ' ', '1', ' ', 't', 'o', ' ', '1', '0', '0', '.', ' ', 'B', 'u', 't', ' ', 'f', 'o', 'r', ' ', 'm', 'u', 'l', 't', 'i', 'p', 'l', 'e', 's', ' ', 'o', 'f', ' ', 't', 'h', 'r', 'e', 'e', ' ', 'p', 'r', 'i', 'n', 't', ' ', 'M', 'i', 'c', 'k', 'e', 'y', ' ', 'i', 'n', 's', 't', 'e', 'a', 'd', ' ', 'o', 'f', ' ', 't', 'h', 'e', ' ', 'n', 'u', 'm', 'b', 'e', 'r', ' ', 'a', 'n', 'd', ' ', 'f', 'o', 'r', ' ', 't', 'h', 'e', ' ', 'm', 'u', 'l', 't', 'i', 'p', 'l', 'e', 's', ' ', 'o', 'f', ' ', 'f', 'i', 'v', 'e', ' ', 'p', 'r', 'i', 'n', 't', ' ', 'M', 'o', 'u', 's', 'e', '.', ' ', 'F', 'o', 'r', ' ', 'n', 'u', 'm', 'b', 'e', 'r', 's', ' ', 'w', 'h', 'i', 'c', 'h', ' ', 'a', 'r', 'e', ' ', 'm', 'u', 'l', 't', 'i', 'p', 'l', 'e', 's', ' ', 'o', 'f', ' ', 'b', 'o', 't', 'h', ' ', 't', 'h', 'r', 'e', 'e', ' ', 'a', 'n', 'd', ' ', 'f', 'i', 'v', 'e', ' ', 'p', 'r', 'i', 'n', 't', ' ', 'M', 'i', 'c', 'k', 'e', 'y', 'M', 'o', 'u', 's', 'e']\n",
      "a     7\n",
      "b     4\n",
      "c     3\n",
      "d     3\n",
      "e     22\n",
      "f     9\n",
      "g     1\n",
      "h     9\n",
      "i     14\n",
      "j     0\n",
      "k     2\n",
      "l     6\n",
      "m     8\n",
      "n     10\n",
      "o     13\n",
      "p     8\n",
      "q     0\n",
      "r     17\n",
      "s     9\n",
      "t     19\n",
      "u     9\n",
      "v     2\n",
      "w     1\n",
      "x     0\n",
      "y     2\n",
      "z     0\n"
     ]
    }
   ],
   "source": [
    "from string import ascii_lowercase as alc\n",
    "for i in alc:\n",
    "    print (i,\"   \",s.count(i))\n",
    "    \n",
    "#list a string with a for loop\n",
    "cnt=[]\n",
    "for i in alc:\n",
    "    cnt.append(s.count(i))\n",
    "print(c1)\n",
    "#or with list()\n",
    "char=list(s)"
   ]
  },
  {
   "cell_type": "markdown",
   "metadata": {},
   "source": [
    "5\\. Isolating the unique\n",
    "\n",
    "Write a function that determines and count the unique numbers in the list *l*"
   ]
  },
  {
   "cell_type": "code",
   "execution_count": 17,
   "metadata": {},
   "outputs": [],
   "source": [
    "l = [36, 45, 58, 3, 74, 96, 64, 45, 31, 10, 24, 19, 33, 86, 99, 18, 63, 70, 85,\n",
    " 85, 63, 47, 56, 42, 70, 84, 88, 55, 20, 54, 8, 56, 51, 79, 81, 57, 37, 91,\n",
    " 1, 84, 84, 36, 66, 9, 89, 50, 42, 91, 50, 95, 90, 98, 39, 16, 82, 31, 92, 41,\n",
    " 45, 30, 66, 70, 34, 85, 94, 5, 3, 36, 72, 91, 84, 34, 87, 75, 53, 51, 20, 89, 51, 20]"
   ]
  },
  {
   "cell_type": "code",
   "execution_count": 28,
   "metadata": {},
   "outputs": [
    {
     "name": "stdout",
     "output_type": "stream",
     "text": [
      "[1, 3, 5, 8, 9, 10, 16, 18, 19, 20, 24, 30, 31, 33, 34, 36, 37, 39, 41, 42, 45, 47, 50, 51, 53, 54, 55, 56, 57, 58, 63, 64, 66, 70, 72, 74, 75, 79, 81, 82, 84, 85, 86, 87, 88, 89, 90, 91, 92, 94, 95, 96, 98, 99]\n",
      "5\n",
      "9\n",
      "10\n",
      "16\n",
      "19\n",
      "20\n",
      "24\n",
      "30\n",
      "31\n",
      "33\n",
      "34\n",
      "41\n",
      "50\n",
      "51\n",
      "54\n",
      "55\n",
      "57\n",
      "58\n",
      "63\n",
      "64\n",
      "70\n",
      "74\n",
      "81\n",
      "82\n",
      "84\n",
      "85\n",
      "86\n",
      "87\n",
      "88\n",
      "89\n",
      "90\n",
      "92\n",
      "94\n",
      "95\n",
      "96\n",
      "98\n",
      "99\n"
     ]
    }
   ],
   "source": [
    "from collections import Counter\n",
    "l2=list(set(l))\n",
    "#Counter(l).keys() # equals to list(set(words))\n",
    "l3=list(Counter(l).values()) # counts the elements' frequency\n",
    "print(l2)\n",
    "for i in range(0,len(l3)):\n",
    "    if l3[i]==1:\n",
    "        print(l2[i])"
   ]
  },
  {
   "cell_type": "markdown",
   "metadata": {},
   "source": [
    "6\\. Combination of functions\n",
    "\n",
    "Write two functions - one that returns the square of a number, and one that returns the cube. Now write a third function that returns the number raised to the 6th power using the two previous functions."
   ]
  },
  {
   "cell_type": "code",
   "execution_count": 30,
   "metadata": {},
   "outputs": [
    {
     "name": "stdout",
     "output_type": "stream",
     "text": [
      "4096.0\n",
      "4096.0\n"
     ]
    }
   ],
   "source": [
    "def pow2(x):\n",
    "    return(x**2.0)\n",
    "\n",
    "def pow3(x):\n",
    "    return(x**3.0)\n",
    "\n",
    "def pow6(x):\n",
    "    return(pow3(pow2(x)))\n",
    "\n",
    "\n",
    "print(4**6.0)\n",
    "print(pow6(4))"
   ]
  },
  {
   "cell_type": "markdown",
   "metadata": {},
   "source": [
    "7\\. Cubes\n",
    "\n",
    "Create a list of the cubes of x for x in *[0, 10]* using:\n",
    "\n",
    "a) a for loop\n",
    "\n",
    "b) a list comprehension"
   ]
  },
  {
   "cell_type": "code",
   "execution_count": 35,
   "metadata": {},
   "outputs": [
    {
     "name": "stdout",
     "output_type": "stream",
     "text": [
      "[0.0, 1.0, 8.0, 27.0, 64.0, 125.0, 216.0, 343.0, 512.0, 729.0, 1000.0]\n",
      "[0.0, 1.0, 8.0, 27.0, 64.0, 125.0, 216.0, 343.0, 512.0, 729.0, 1000.0]\n"
     ]
    }
   ],
   "source": [
    "#a\n",
    "cubes_l=[]\n",
    "for i in range(0,11):\n",
    "    cubes_l.append(i**3.0)\n",
    "print(cubes_l)\n",
    "\n",
    "#b\n",
    "cubes_c=[x**3.0 for x in range(11)] \n",
    "print(cubes_c)\n"
   ]
  },
  {
   "cell_type": "markdown",
   "metadata": {},
   "source": [
    "8\\. Nested list comprehension\n",
    "\n",
    "A Pythagorean triple is an integer solution to the Pythagorean theorem $a^2+b^2=c^2$. The first Pythagorean triple is (3,4,5). Find and put in a tuple all unique Pythagorean triples for the positive integers a, b and c less than 100."
   ]
  },
  {
   "cell_type": "code",
   "execution_count": 1,
   "metadata": {},
   "outputs": [
    {
     "name": "stdout",
     "output_type": "stream",
     "text": [
      "((3, 4, 5), (8, 6, 10), (5, 12, 13), (15, 8, 17), (12, 16, 20), (7, 24, 25), (24, 10, 26), (21, 20, 29), (16, 30, 34), (9, 40, 41), (35, 12, 37), (32, 24, 40), (27, 36, 45), (20, 48, 52), (11, 60, 61), (48, 14, 50), (45, 28, 53), (40, 42, 58), (33, 56, 65), (24, 70, 74), (13, 84, 85), (63, 16, 65), (60, 32, 68), (55, 48, 73), (48, 64, 80), (39, 80, 89), (28, 96, 100))\n"
     ]
    }
   ],
   "source": [
    "top=100\n",
    "c=0\n",
    "m=2\n",
    "triples=[]\n",
    "while(c<top):\n",
    "    for n in range(1,m+1):\n",
    "        a=m*m-n*n\n",
    "        b=2*m*n\n",
    "        c=m*m+n*n\n",
    "        l1=(a,b,c)\n",
    "        if(c>top):\n",
    "            break\n",
    "        if(a==0 or b==0 or c==0):\n",
    "            break\n",
    "        triples.append(l1)\n",
    "    m+=1\n",
    "triples_tpl=tuple(triples)\n",
    "print(triples_tpl)\n"
   ]
  },
  {
   "cell_type": "markdown",
   "metadata": {},
   "source": [
    "9\\. Normalization\n",
    "\n",
    "Write a function that takes a tuple of numbers and returns it with the entries normalized to one"
   ]
  },
  {
   "cell_type": "code",
   "execution_count": 10,
   "metadata": {},
   "outputs": [
    {
     "name": "stdout",
     "output_type": "stream",
     "text": [
      "(0.003605769230769231, 0.007211538461538462, 0.027644230769230768, 0.009615384615384616, 0.003605769230769231, 0.006009615384615385, 0.010817307692307692, 0.008413461538461538, 0.06490384615384616, 0.06370192307692307, 0.2824519230769231, 0.08052884615384616, 0.4230769230769231, 0.006009615384615385, 0.002403846153846154)\n"
     ]
    }
   ],
   "source": [
    "def norm(a):\n",
    "    list(a)\n",
    "    a_norm = [float(i)/sum(a) for i in a]\n",
    "    a_norm=tuple(a_norm)\n",
    "    return(a_norm)\n",
    "\n",
    "l1=(3,6,23,8,3,5,9,7,54,53,235,67,352,5,2)\n",
    "print(norm(l1))"
   ]
  }
 ],
 "metadata": {
  "kernelspec": {
   "display_name": "Python 3 (ipykernel)",
   "language": "python",
   "name": "python3"
  },
  "language_info": {
   "codemirror_mode": {
    "name": "ipython",
    "version": 3
   },
   "file_extension": ".py",
   "mimetype": "text/x-python",
   "name": "python",
   "nbconvert_exporter": "python",
   "pygments_lexer": "ipython3",
   "version": "3.9.7"
  }
 },
 "nbformat": 4,
 "nbformat_minor": 2
}
